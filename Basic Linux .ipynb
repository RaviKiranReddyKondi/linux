{
 "cells": [
  {
   "cell_type": "markdown",
   "id": "0dcb49b1",
   "metadata": {},
   "source": [
    "### Basics about linux"
   ]
  },
  {
   "cell_type": "code",
   "execution_count": 1,
   "id": "f0f50b6d",
   "metadata": {},
   "outputs": [
    {
     "data": {
      "text/plain": [
       "' 1. whoami: gives your system name\\n    2. uname: gives linux name\\n    3. ls: gives list of folders\\n    4. pwd: gives the present workin directory\\n    5. cd: changing the directory\\n    6. cd~: brings backs to directory from what ever folder you are in\\n    7:../: brings one folder back'"
      ]
     },
     "execution_count": 1,
     "metadata": {},
     "output_type": "execute_result"
    }
   ],
   "source": [
    "#Basic commands\n",
    "\"\"\" 1. whoami: gives your system name\n",
    "    2. uname: gives linux name\n",
    "    3. ls: gives list of folders\n",
    "    4. pwd: gives the present workin directory\n",
    "    5. cd: changing the directory\n",
    "    6. cd~: brings backs to directory from what ever folder you are in\n",
    "    7: ../: brings one folder back\n",
    "    8: cd-: brings to previous directory\"\"\""
   ]
  },
  {
   "cell_type": "markdown",
   "id": "56bfdb20",
   "metadata": {},
   "source": [
    "### File management"
   ]
  },
  {
   "cell_type": "code",
   "execution_count": 2,
   "id": "7ae8843d",
   "metadata": {},
   "outputs": [],
   "source": [
    "# 1. touch _: to create file\n",
    "# 2. nano _: to create file and edit it\n",
    "# 3. mkdir _: used to create a folder \n",
    "# 4. rm _: it is used to delete the file\n",
    "# 5. rm -rf _: used to delete the folder\n",
    "# 6. mv _ _: used to move( mv a z means moves a file into z folder)\n",
    "# 7. _ --help: which gives information about the function (like mv --help gives info about mv function)\n",
    "# 8. cp _: copying files\n",
    "# 9. stat _: gives the status of file\n",
    "# 10. ls -lrth: gives info about the files in the folder in human readable form\n",
    "# 11. rmdir _: removes the empty folders\n",
    "# 12. cat _: helps in displying what is present in file \n",
    "# 13. man ls: gives the manual of all commands\n",
    "# 14. less _: gives the information about what is present in the file but not all the info\n",
    "# 15. more _:gives all information present in the file\n",
    "# 16.  _ --help or _ -h: gives info about the command\n",
    "# 17. head _: gives first few lines of text file\n",
    "# 18. tail _: gives last lines in text file"
   ]
  },
  {
   "cell_type": "markdown",
   "id": "da5febed",
   "metadata": {},
   "source": [
    "### Commands"
   ]
  },
  {
   "cell_type": "code",
   "execution_count": 3,
   "id": "fd435af2",
   "metadata": {},
   "outputs": [],
   "source": [
    "#1. ctrl+alt+t: opens the terminal\n",
    "#2. ctrl+shift+v: paste\n",
    "#3. ctrl+l: clears the terminal\n",
    "#4. ctrl+x: save in text editor\n",
    "#5. ctrl+z: back in text editor\n",
    "#6. tab : is used to fill the rest of the name"
   ]
  },
  {
   "cell_type": "markdown",
   "id": "fe81acc7",
   "metadata": {},
   "source": [
    "### Files"
   ]
  },
  {
   "cell_type": "code",
   "execution_count": 4,
   "id": "871f6546",
   "metadata": {},
   "outputs": [],
   "source": [
    "#1. _: indicates files\n",
    "#2. d: indicates directory\n",
    "#3. l: indicates link\n",
    "#4. rwx rwx rwx: read write excute for user, group, every one\n",
    "#5. rwx:read=4,write=2,excute=1\n",
    "#6. chmod: use to change the permission for files(chmod (+r/w/x,-r/w/x)or 777 this gives permission for rwx for user,group and every one filename )"
   ]
  },
  {
   "cell_type": "markdown",
   "id": "dd1cf70a",
   "metadata": {},
   "source": [
    "### Symbols"
   ]
  },
  {
   "cell_type": "code",
   "execution_count": null,
   "id": "e228c127",
   "metadata": {},
   "outputs": [],
   "source": [
    "#1. \\: escape character. referencing special character by backslash first\n",
    "#2. /:used in directory separater\n",
    "#3. .: when we use this dot infront any file name it is hided\n",
    "#4. ~: gives the home directory\n",
    "#5. *:this is used to indicate multiple items(ex: if file name ends with .txt if we use *.txt will brings all .txt files)\n",
    "#6. ?: indicates single character in filename (ex:ravi?.txt may give for suppose ravi1.txt, ravia.txt but not raviqq.txt)\n",
    "#7. []:used to represent range of values\n",
    "#8. |:pipe operator output of one command into other command\n",
    "#9. >: directing the output of command into newfile\n",
    "#10. >>:directing the output of a command at the end of existing file\n",
    "#11. <: giving input for program\n",
    "#12. ;:used to excute multi commands on single line\n",
    "#13. &&:command separator allows second command to run if first is excuted with no error\n",
    "#14. &: to run the command at background and return the shell "
   ]
  }
 ],
 "metadata": {
  "kernelspec": {
   "display_name": "Python 3 (ipykernel)",
   "language": "python",
   "name": "python3"
  },
  "language_info": {
   "codemirror_mode": {
    "name": "ipython",
    "version": 3
   },
   "file_extension": ".py",
   "mimetype": "text/x-python",
   "name": "python",
   "nbconvert_exporter": "python",
   "pygments_lexer": "ipython3",
   "version": "3.9.7"
  }
 },
 "nbformat": 4,
 "nbformat_minor": 5
}
