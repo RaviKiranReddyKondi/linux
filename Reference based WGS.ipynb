{
 "cells": [
  {
   "cell_type": "markdown",
   "id": "66f94d6c",
   "metadata": {},
   "source": [
    "## Refrence based Whole Genome Sequencing"
   ]
  },
  {
   "cell_type": "code",
   "execution_count": 1,
   "id": "29005a5e",
   "metadata": {},
   "outputs": [
    {
     "data": {
      "text/plain": [
       "'steps\\n1.Quality check\\n2.Adapter trimming\\n3.Reference based alignment\\n4.Removal of PCR duplicates\\n5.Variant calling format\\n6.Annotation of VCF file\\n&.SNP,MNP etc'"
      ]
     },
     "execution_count": 1,
     "metadata": {},
     "output_type": "execute_result"
    }
   ],
   "source": [
    "\"\"\"steps\n",
    "1.Quality check\n",
    "2.Adapter trimming\n",
    "3.Reference based alignment\n",
    "4.Removal of PCR duplicates\n",
    "5.Variant calling format\n",
    "6.Annotation of VCF file\n",
    "&.SNP,MNP etc\"\"\""
   ]
  },
  {
   "cell_type": "markdown",
   "id": "073c1199",
   "metadata": {},
   "source": [
    "### Basics"
   ]
  },
  {
   "cell_type": "code",
   "execution_count": 5,
   "id": "37086230",
   "metadata": {},
   "outputs": [
    {
     "data": {
      "text/plain": [
       "'FASTQ\\nThe FASTQ format could be a text-based common format for storing each DNA sequence and its corresponding quality scores from NGS (Cock et al., 2010). There are 4 lines per sequencing read in the format.\\nFASTQ format example:\\n@M02605:65:000000000-JMM64:1:1101:18168:1561 2:N:0:64\\nTCTTTCTACTTCTTCTTTTACCTTTTTCTTTCCCTTGCTTCTTTCCCGTTCCTTTCTTTTTTGACCTTTTTTTTTCTTTCACCTTTTTTTTTTTCCTTTTCTTCGCTCTTTTCCCCCTTCCATGTTTCTTTTCC>\\n+\\n—,8,\\nThe FASTQ format could be a text-based commonplace format for storing each, a desoxyribonucleic acid sequence and its corresponding quality scores from NGS. There square measure four lines per sequencing browse.\\nFASTQ files are plain document with extension “.fq” or “.fastq” and will be viewed directly from program line on computers with Unix/Linux software system. In FASTQ file, every sequence or short reads of NGS is outlined by four lines of text:\\nThe first line starts with a “@” character and that is followed by a sequence symbol and an optional description.\\nThe second line is that the raw sequence letters: A, T, G, C, and N (unknown).\\nThe third line begins with a “+” image and is optionally followed by a similar sequence symbol with any other description once more. The “+” sign is a marker indicating the top of sequence.\\nThe fourth line is that the quality values for sequence within the second line, and should contain a similar variety of symbols as letters within the sequence.'"
      ]
     },
     "execution_count": 5,
     "metadata": {},
     "output_type": "execute_result"
    }
   ],
   "source": [
    "#basic file format is FASTQ\n",
    "'''FASTQ\n",
    "The FASTQ format could be a text-based common format for storing each DNA sequence and its corresponding quality scores from NGS (Cock et al., 2010). There are 4 lines per sequencing read in the format.\n",
    "FASTQ format example:\n",
    "@M02605:65:000000000-JMM64:1:1101:18168:1561 2:N:0:64\n",
    "TCTTTCTACTTCTTCTTTTACCTTTTTCTTTCCCTTGCTTCTTTCCCGTTCCTTTCTTTTTTGACCTTTTTTTTTCTTTCACCTTTTTTTTTTTCCTTTTCTTCGCTCTTTTCCCCCTTCCATGTTTCTTTTCC>\n",
    "+\n",
    "—,8,\n",
    "The FASTQ format could be a text-based commonplace format for storing each, a desoxyribonucleic acid sequence and its corresponding quality scores from NGS. There square measure four lines per sequencing browse.\n",
    "FASTQ files are plain document with extension “.fq” or “.fastq” and will be viewed directly from program line on computers with Unix/Linux software system. In FASTQ file, every sequence or short reads of NGS is outlined by four lines of text:\n",
    "The first line starts with a “@” character and that is followed by a sequence symbol and an optional description.\n",
    "The second line is that the raw sequence letters: A, T, G, C, and N (unknown).\n",
    "The third line begins with a “+” image and is optionally followed by a similar sequence symbol with any other description once more. The “+” sign is a marker indicating the top of sequence.\n",
    "The fourth line is that the quality values for sequence within the second line, and should contain a similar variety of symbols as letters within the sequence.'''"
   ]
  },
  {
   "cell_type": "code",
   "execution_count": null,
   "id": "74d7f795",
   "metadata": {},
   "outputs": [],
   "source": [
    "'''Before going for analysis\n",
    "1. make folder name with 1_rawreads make sub folder QC in this\n",
    "2. 2_trimmed_reads make sub folder QC in this\n",
    "3. 3_alignment\n",
    "4. Genome''' "
   ]
  },
  {
   "cell_type": "markdown",
   "id": "79d0edc2",
   "metadata": {},
   "source": [
    "### 1. Qualit check"
   ]
  },
  {
   "cell_type": "code",
   "execution_count": 2,
   "id": "202e87be",
   "metadata": {},
   "outputs": [
    {
     "data": {
      "text/plain": [
       "'2. Summarized quality parameters like quality value, read length, base distribution across\\n      the reads, and presence of adapter sequences and duplicated sequences would provide overall\\n      information of data quality.'"
      ]
     },
     "execution_count": 2,
     "metadata": {},
     "output_type": "execute_result"
    }
   ],
   "source": [
    "#points to remember about quality check\n",
    "'''1. Quality value: The logarithmic probability of base calling error (Q ¼ log10 P). \n",
    "      To put it in perspective, Q value 30 means the probability of the base (nucleotide) being wrongly called is 0.001 \n",
    "      and Q value 20 means probability of the base being wrongly called 0.01''' \n",
    "#mostly we will consider the quality score Q20 and higher than this\n",
    "'''2. Summarized quality parameters like quality value, read length, base distribution across\n",
    "      the reads, and presence of adapter sequences and duplicated sequences would provide overall\n",
    "      information of data quality.'''\n"
   ]
  },
  {
   "cell_type": "code",
   "execution_count": 4,
   "id": "9104a32b",
   "metadata": {},
   "outputs": [
    {
     "data": {
      "text/plain": [
       "'fastqc -t 5 -o QC *.gz'"
      ]
     },
     "execution_count": 4,
     "metadata": {},
     "output_type": "execute_result"
    }
   ],
   "source": [
    "#for quality check in linux we use Fastqc in mini conda environment\n",
    "# to install fastqc first we have to install miniconda in linux environment\n",
    "# than after installing miniconda use this command\n",
    "# conda install -c bioconda fastqc\n",
    "# in this we are calling conda to install fastqc from bioconda, -c=channel\n",
    "#to check wheather it is installed or not just type fastqc in terminal to open terminal in linux use ctrl+Alt+t\n",
    "# to know about fastqc use fastqc --help command to know about it\n",
    "# to know the quality of raw fastqc file use this command\n",
    "'''fastqc -t 5 -o QC *.gz'''\n",
    "# generally raw files are in .gz format\n",
    "# the above command calling fastqc by giving 5 threads from cpu(-t 5) and saving output into a folder (-o QC) \n",
    "# and files with .gz are taken as input files for quality checking(*.gz)\n",
    "# More info can be found at '''https://www.bioinformatics.babraham.ac.uk/projects/fastqc/'''"
   ]
  },
  {
   "cell_type": "code",
   "execution_count": 8,
   "id": "aca8ab97",
   "metadata": {},
   "outputs": [
    {
     "data": {
      "text/plain": [
       "'multiqc -p .'"
      ]
     },
     "execution_count": 8,
     "metadata": {},
     "output_type": "execute_result"
    }
   ],
   "source": [
    "# multiqc: this is used to know the quality of raw reads when there are many reads\n",
    "# installing\n",
    "\"\"\"conda install -c bioconda -c conda -forge multiqc (or)\n",
    "   conda install -c bioconda multiqc\"\"\"\n",
    "#using multiqc\n",
    "\"\"\"multiqc -p .\"\"\"\n",
    "#by calling multiqc in 1_rawreads folder (-p: shows images with plots and information about quality for dfferent reads),\n",
    "#. indicates that present folder\n",
    "# to know more about multiqc use multiqc --help\n",
    "# after running multiqc u will see html file open that file in firefox to open that use this command\n",
    "# firefox filename.html"
   ]
  },
  {
   "cell_type": "code",
   "execution_count": 7,
   "id": "6ef8d09d",
   "metadata": {},
   "outputs": [
    {
     "data": {
      "text/plain": [
       "'1. sudo apt -get install packagename\\n2. sudo apt install packagename\\n3. sudo apt remove packagename (to remove)'"
      ]
     },
     "execution_count": 7,
     "metadata": {},
     "output_type": "execute_result"
    }
   ],
   "source": [
    "#to install packages directly use these commands\n",
    "\"\"\"1. sudo apt -get install packagename\n",
    "2. sudo apt install packagename\n",
    "3. sudo apt remove packagename (to remove)\"\"\""
   ]
  },
  {
   "cell_type": "markdown",
   "id": "7f7bf840",
   "metadata": {},
   "source": [
    "### 2. Adapter trimming/ adapter removal"
   ]
  },
  {
   "cell_type": "code",
   "execution_count": 11,
   "id": "1d58e369",
   "metadata": {},
   "outputs": [],
   "source": [
    "#after quality check if it is not good that go for adapter removal\n",
    "# adapter removal can be done by using fastp, Trimmomatic tool and fastx-Toolkit"
   ]
  },
  {
   "cell_type": "markdown",
   "id": "9cf694c5",
   "metadata": {},
   "source": [
    "#### fastp"
   ]
  },
  {
   "cell_type": "code",
   "execution_count": 10,
   "id": "56b784e4",
   "metadata": {},
   "outputs": [
    {
     "data": {
      "text/plain": [
       "'conda install -c bioconda fastp'"
      ]
     },
     "execution_count": 10,
     "metadata": {},
     "output_type": "execute_result"
    }
   ],
   "source": [
    "# by using fastp, to install fastp\n",
    "\"\"\"conda install -c bioconda fastp\"\"\""
   ]
  },
  {
   "cell_type": "code",
   "execution_count": 12,
   "id": "c591e42c",
   "metadata": {},
   "outputs": [
    {
     "data": {
      "text/plain": [
       "'for i in `ls *_R1.fastq.gz|cut -d \"_\" -f1`; do fastp -w 5 -a AGATCGGAAGAGC -i $i\"_R1.fastq.gz\" -I $i\"_R2.fastq.gz\" \\n-o \"../2_TrimmedReads/\"$i\"_Trimmed_R1.fq.gz\" -O \"../2_TrimmedReads/\"$i\"_Trimmed_R2.fq.gz\"; done'"
      ]
     },
     "execution_count": 12,
     "metadata": {},
     "output_type": "execute_result"
    }
   ],
   "source": [
    "#command line for trimming\n",
    "\"\"\"for i in `ls *_R1.fastq.gz|cut -d \"_\" -f1`; do fastp -w 5 -a AGATCGGAAGAGC -i $i\"_R1.fastq.gz\" -I $i\"_R2.fastq.gz\" \n",
    "-o \"../2_TrimmedReads/\"$i\"_Trimmed_R1.fq.gz\" -O \"../2_TrimmedReads/\"$i\"_Trimmed_R2.fq.gz\"; done\"\"\"\n",
    "#in this command we are creating a for loop for doing i iteration for trimming in ls list\n",
    "#* command is used to select multiple .gz files (paired end so they are represented by R1 and R2)\n",
    "# after selecting files grep command (|) is used to cut the input file name at \"_\" delimtter (-d) \n",
    "# and -f1 means, after splitting the filename delimmted with this _ the first is -f1\n",
    "# ; used to excute multi commands on single line\n",
    "#saying fastp to do fastp to take 5 threads (-w 5) from cpu and performe trimming.\n",
    "#-a is universal adapter sequence for finding adapters in reads\n",
    "#-i and -I is input for read1 and read2 \n",
    "#-o and -O are the ouput for trimmed reads1 and 2\n",
    "# after iteration done command is used to stop the loop\n",
    "# this is done in rawread folder and output is saved in trimmedreads folder\n",
    "#../2_TrimmedReads/\"$i\"_Trimmed_R1.fq.gz indicates the path for saving after trimming\n",
    "# in above $i represents the respective iteration in ls \n",
    "# after performing trimming once again check quality check for trimmed reads\n"
   ]
  },
  {
   "cell_type": "code",
   "execution_count": 1,
   "id": "edb2c58b",
   "metadata": {},
   "outputs": [],
   "source": [
    "# you can use trimomatic or FASTX-Toolkit for adapter trimming"
   ]
  },
  {
   "cell_type": "markdown",
   "id": "477c7661",
   "metadata": {},
   "source": [
    "### 3. Alignment"
   ]
  },
  {
   "cell_type": "code",
   "execution_count": 2,
   "id": "935beb5c",
   "metadata": {},
   "outputs": [
    {
     "data": {
      "text/plain": [
       "'Go to NCBI - Search Reference species name of your intrest and select genome and enter with species name \\n    and right click on GFF file and copy link to address bar and \\n   remove the zip file and download fna, gff & gtf - keep reference files in genome folder '"
      ]
     },
     "execution_count": 2,
     "metadata": {},
     "output_type": "execute_result"
    }
   ],
   "source": [
    "# after checking quality of trimmed reads alignment is done for trimmedreads\n",
    "# in alignment first indexing of genome is done\n",
    "#for indexing we will use bwa pacakge\n",
    "\"\"\"Go to NCBI - Search Reference species name of your intrest and select genome and enter with species name \n",
    "    and right click on GFF file and copy link to address bar and \n",
    "   remove the zip file and download fna, gff & gtf - keep reference files in genome folder \"\"\"\n",
    "#example: https://ftp.ncbi.nlm.nih.gov/genomes/all/GCF/001/433/935/GCF_001433935.1_IRGSP-1.0/GCF_001433935.1_IRGSP-1.0_genomic.gff.gz\n",
    "# the above is the actual link after removal of zip file format from link. you will see like this in below\n",
    "# https://ftp.ncbi.nlm.nih.gov/genomes/all/GCF/001/433/935/GCF_001433935.1_IRGSP-1.0/\n",
    "# once you open the link you will see different file formats from that downlaod fna.gz, gff and gtf files from the link"
   ]
  },
  {
   "cell_type": "markdown",
   "id": "1b07bff5",
   "metadata": {},
   "source": [
    "#### Indexing"
   ]
  },
  {
   "cell_type": "code",
   "execution_count": 4,
   "id": "811229ec",
   "metadata": {},
   "outputs": [
    {
     "data": {
      "text/plain": [
       "'bwa index inputfile.fna(mention the path of file also)'"
      ]
     },
     "execution_count": 4,
     "metadata": {},
     "output_type": "execute_result"
    }
   ],
   "source": [
    "#save the downloaded files in genome folder\n",
    "#before indexing you have to extract the fna.gz file\n",
    "#by using this command you can unzip the fna.gz: gunzip filename.fna.gz\n",
    "# for compressing or to make zip file: gzip filename\n",
    "#by using the command below do indexing\n",
    "\"\"\"bwa index inputfile.fna(mention the path of file also)\"\"\"\n",
    "# to install bwa use this: sudo apt install bwa"
   ]
  },
  {
   "cell_type": "markdown",
   "id": "38d40fc5",
   "metadata": {},
   "source": [
    "#### Alignment"
   ]
  },
  {
   "cell_type": "code",
   "execution_count": 5,
   "id": "e033af75",
   "metadata": {},
   "outputs": [
    {
     "data": {
      "text/plain": [
       "'for i in `ls *_Trimmed_R1.fq.gz|cut -f1 -d \"_\"`;\\ndo bwa mem -t 6 -R \\'@RG\\tID:\\'$i\\'\\tSM:$i\\' ../Genome/GCF_000005845.2_ASM584v2_genomic.fna \\n$i\"_Trimmed_R1.fq.gz\" $i\"_Trimmed_R2.fq.gz\"|samtools view -@ 1 -b |samtools sort -@ 1 -o $i\"_sorted.bam\"; done'"
      ]
     },
     "execution_count": 5,
     "metadata": {},
     "output_type": "execute_result"
    }
   ],
   "source": [
    "#after indeixng the refernce genome.fna file\n",
    "# for alignment we use samtools\n",
    "\"\"\"for i in `ls *_Trimmed_R1.fq.gz|cut -f1 -d \"_\"`;\n",
    "do bwa mem -t 6 -R '@RG\\tID:'$i'\\tSM:$i' ../Genome/GCF_000005845.2_ASM584v2_genomic.fna \n",
    "$i\"_Trimmed_R1.fq.gz\" $i\"_Trimmed_R2.fq.gz\"|samtools view -@ 1 -b |samtools sort -@ 1 -o $i\"_sorted.bam\"; done\"\"\""
   ]
  },
  {
   "cell_type": "code",
   "execution_count": 6,
   "id": "9bd510d6",
   "metadata": {},
   "outputs": [],
   "source": [
    "# for alignment again we are using for loop and delimitting the filename by using _ as delimtter\n",
    "# after that calling bwa mem tool(mostly used for alignment) and giving threads 6 (-t 6) \n",
    "# and -R '@RG\\tID:'$i'\\tSM:$i' id for illumina platform\n",
    "# ../Genome/GCF_000005845.2_ASM584v2_genomic.fna we are giving path for unzipped fna file format\n",
    "# $i\"_Trimmed_R1.fq.gz\" $i\"_Trimmed_R2.fq.gz\" taking input for alignment from trimmed reads\n",
    "# samtools view -@ 1 -b  in this we are calling samtools and mentioning to use 2  additional threads(-@ 2)\n",
    "# and save format in bam format (-b)\n",
    "# by using pipe operator (|), samtools sort -@ 1 -o $i\"_sorted.bam\" this writes the final output from i in ls plus sorted.bam\n",
    "# example: xyz_Trimmed_R1.fq.gz is converted into xyz_sorted.bam as output"
   ]
  },
  {
   "cell_type": "code",
   "execution_count": 7,
   "id": "51b26674",
   "metadata": {},
   "outputs": [],
   "source": [
    "# to know the statistics of alignment use: samtools flagstat filename.bam\n",
    "# samtools view -s -b xyz.sam > xyz.bam(this converts sam file to bam file)"
   ]
  },
  {
   "cell_type": "markdown",
   "id": "35924d44",
   "metadata": {},
   "source": [
    "### 4. PCR duplication removal"
   ]
  },
  {
   "cell_type": "code",
   "execution_count": 1,
   "id": "4543d570",
   "metadata": {},
   "outputs": [
    {
     "data": {
      "text/plain": [
       "'for i in `ls *_sorted.bam|cut -f1 -d \"_\"`; do sambamba markdup -r -t 5 $i\"_sorted.bam\" $i\"_rmdup.bam\"; done'"
      ]
     },
     "execution_count": 1,
     "metadata": {},
     "output_type": "execute_result"
    }
   ],
   "source": [
    "#it is done by using sambamba\n",
    "# conda install -c bioconda sambamba\n",
    "# for help type sambamba after installing\n",
    "# it is done by using the below command\n",
    "\"\"\"for i in `ls *_sorted.bam|cut -f1 -d \"_\"`; do sambamba markdup -r -t 5 $i\"_sorted.bam\" $i\"_rmdup.bam\"; done\"\"\"\n",
    "#again we are using for loop(i in ls with *_sorted.bam files as input)\n",
    "# we are dividing(-d \"_\") the name into two columns and using the first column(f1) for naming of output files\n",
    "# we are caling sambamba markdup and saying to remove pcr duplicates by using 10 threads(do sambamba markdup -r -t 5)\n",
    "# $i is the input file in bam format \n",
    "# $i is the output file in bam format "
   ]
  },
  {
   "cell_type": "markdown",
   "id": "4b883960",
   "metadata": {},
   "source": [
    "### 5. VCF file generation"
   ]
  },
  {
   "cell_type": "code",
   "execution_count": 2,
   "id": "4edd0a38",
   "metadata": {},
   "outputs": [
    {
     "data": {
      "text/plain": [
       "'freebayes -f reference_genome_in_fna_format_with_path.fna -p 1 inputfile_bam_format.bam > output_file_VCF_format.vcf'"
      ]
     },
     "execution_count": 2,
     "metadata": {},
     "output_type": "execute_result"
    }
   ],
   "source": [
    "# it is done by using freebayes based on bayesian haplotypes based polymorphism discovery\n",
    "# conda install -c bioconda frebayes\n",
    "# by using freebayes -h (were we can know about many things about freebayes to write custom code)\n",
    "\"\"\"freebayes -f reference_genome_in_fna_format_with_path.fna -p 1 inputfile_bam_format.bam > output_file_VCF_format.vcf\"\"\"\n",
    "# calling freebayes with fasta reference file with refernce genome in .fna format(freebayes -f reference_genome_in_fna_format_with_path.fna)\n",
    "# -p is the ploidy level (default is 2)\n",
    "# input file after pcr duplicate removal\n",
    "#> save as vcf file"
   ]
  },
  {
   "cell_type": "markdown",
   "id": "6bea10cf",
   "metadata": {},
   "source": [
    "### 6. Annotations"
   ]
  },
  {
   "cell_type": "code",
   "execution_count": 1,
   "id": "4504c96f",
   "metadata": {},
   "outputs": [
    {
     "data": {
      "text/plain": [
       "\"# Download using wget\\n$ wget https://snpeff.blob.core.windows.net/versions/snpEff_latest_core.zip\\n\\n# If you prefer to use 'curl' instead of 'wget', you can type:\\n#     curl -L https://snpeff.blob.core.windows.net/versions/snpEff_latest_core.zip > snpEff_latest_core.zip\\n\\n# Install\\n$ unzip snpEff_latest_core.zip\""
      ]
     },
     "execution_count": 1,
     "metadata": {},
     "output_type": "execute_result"
    }
   ],
   "source": [
    "# it is using SnpEff/Snpsift, it is database for finding variants\n",
    "#Running snpeff \"http://pcingola.github.io/SnpEff/se_running/\"\n",
    "# installation\n",
    "\"\"\"# Download using wget\n",
    "$ wget https://snpeff.blob.core.windows.net/versions/snpEff_latest_core.zip\n",
    "\n",
    "# If you prefer to use 'curl' instead of 'wget', you can type:\n",
    "#     curl -L https://snpeff.blob.core.windows.net/versions/snpEff_latest_core.zip > snpEff_latest_core.zip\n",
    "\n",
    "# Install\n",
    "$ unzip snpEff_latest_core.zip\"\"\""
   ]
  },
  {
   "cell_type": "code",
   "execution_count": 4,
   "id": "2e32ecc6",
   "metadata": {},
   "outputs": [
    {
     "data": {
      "text/plain": [
       "'http://pcingola.github.io/SnpEff/examples/ (for examples)'"
      ]
     },
     "execution_count": 4,
     "metadata": {},
     "output_type": "execute_result"
    }
   ],
   "source": [
    "\"\"\"http://pcingola.github.io/SnpEff/examples/ (for examples)\"\"\""
   ]
  },
  {
   "cell_type": "code",
   "execution_count": 5,
   "id": "e98f1ae4",
   "metadata": {},
   "outputs": [],
   "source": [
    "# to get help in linux terminal, open snpeff folder and enter \"java -jar snpEff.jar\" and follow instructions\n"
   ]
  },
  {
   "cell_type": "code",
   "execution_count": 7,
   "id": "134b1d7c",
   "metadata": {},
   "outputs": [
    {
     "data": {
      "text/plain": [
       "'java -Xmx8g \\n-jar path/snpEff/snpEff.jar \\n-c path/snpEff.config \\nGenus_species \\ninput.vcf \\n> output_snpeff_annot.vcf'"
      ]
     },
     "execution_count": 7,
     "metadata": {},
     "output_type": "execute_result"
    }
   ],
   "source": [
    "\"\"\"java -Xmx8g \n",
    "-jar path/snpEff/snpEff.jar \n",
    "-c path/snpEff.config \n",
    "Genus_species \n",
    "input.vcf \n",
    "> output_snpeff_annot.vcf\"\"\""
   ]
  },
  {
   "cell_type": "code",
   "execution_count": 8,
   "id": "8be72728",
   "metadata": {},
   "outputs": [],
   "source": [
    "# java -Xmx8g: snpeff runs on java so calling snpeff and -Xmx8g is code for generating output in html format\n",
    "# jar path/snpEff/snpEff.jar is a database and providing the path were it is present\n",
    "# -c path/snpEff.config is text file were you will find details about your organism or we can built custom one\n",
    "# Genus_species :mention the organism name (scientific name)\n",
    "# input.vcf : provide input file generated from freebayes vcf format\n",
    "# output_snpeff_annot.vcf is the output file generated"
   ]
  },
  {
   "cell_type": "code",
   "execution_count": 9,
   "id": "83e1760c",
   "metadata": {},
   "outputs": [
    {
     "data": {
      "text/plain": [
       "'java \\n-jar path/snpEff/SnpSift.jar \\nextractFields Sample-1-Treated-SAT-1A_snpeff_annot2.vcf \\nCHROM POS ID REF ALT FILTER AF AC DP MQ \\n\"ANN[0].ALLELE\" \"ANN[0].EFFECT\" \"ANN[0].IMPACT:\" \"ANN[0].GENE:\" \"ANN[0].GENEID\" \\n> Sample-1-Treated-SAT-1A_annotated_sift.vcf'"
      ]
     },
     "execution_count": 9,
     "metadata": {},
     "output_type": "execute_result"
    }
   ],
   "source": [
    "\"\"\"java \n",
    "-jar path/snpEff/SnpSift.jar \n",
    "extractFields Sample-1-Treated-SAT-1A_snpeff_annot2.vcf \n",
    "CHROM POS ID REF ALT FILTER AF AC DP MQ \n",
    "\"ANN[0].ALLELE\" \"ANN[0].EFFECT\" \"ANN[0].IMPACT:\" \"ANN[0].GENE:\" \"ANN[0].GENEID\" \n",
    "> Sample-1-Treated-SAT-1A_annotated_sift.vcf\"\"\"\n",
    "# calling java jar database from snpshift database and extracting the annotation details from the annonated from snpeff database\n"
   ]
  },
  {
   "cell_type": "markdown",
   "id": "d1da2dc0",
   "metadata": {},
   "source": [
    "### Creating the custom database"
   ]
  },
  {
   "cell_type": "code",
   "execution_count": 1,
   "id": "222ca50d",
   "metadata": {},
   "outputs": [],
   "source": [
    "#after downloading snpeff and unzipping the snpeff you will see these folders\n",
    "# \"examples\", \"galaxy\", \"scripts\", and files like license, snpeff.config, and databases like snpeff.jar and snpsift\n",
    "#create a data folder and open data folder and create a folder with species name \n",
    "#than download gff file of that species, it will downloaded as zip file extract that file into species folder you named\n",
    "# and paste that gff file in that species folder\n",
    "# and rename that file name as genes.gff\n",
    "#download fasta format of genome of your species and it will be downloaded as zip file\n",
    "# extract that file and paste it in genome folder in data folder with file name as speciesfolder name with ending .fa\n",
    "# or paste that extracted file in species folder with suffix as sequences.fa\n",
    "# now open config text file and go till last line of that config text file \n",
    "# and insert species name folder name.genome : species folder name (oryzasativa.genome: oryzasativa)\n",
    "# than run java -jar snpEff.jar build -gff3 -v data_base_name\n",
    "# "
   ]
  }
 ],
 "metadata": {
  "kernelspec": {
   "display_name": "Python 3 (ipykernel)",
   "language": "python",
   "name": "python3"
  },
  "language_info": {
   "codemirror_mode": {
    "name": "ipython",
    "version": 3
   },
   "file_extension": ".py",
   "mimetype": "text/x-python",
   "name": "python",
   "nbconvert_exporter": "python",
   "pygments_lexer": "ipython3",
   "version": "3.9.7"
  }
 },
 "nbformat": 4,
 "nbformat_minor": 5
}
